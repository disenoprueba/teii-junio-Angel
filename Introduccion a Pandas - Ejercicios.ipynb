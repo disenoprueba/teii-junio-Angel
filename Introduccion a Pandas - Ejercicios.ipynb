{
 "cells": [
  {
   "cell_type": "markdown",
   "id": "39938e2f-7834-4881-8fe0-0091e412f110",
   "metadata": {},
   "source": [
    "# Alumno"
   ]
  },
  {
   "cell_type": "markdown",
   "id": "48332deb-2090-4822-8426-5df5bbaaf0ee",
   "metadata": {},
   "source": [
    "Ángel Castaño Cascales"
   ]
  },
  {
   "cell_type": "markdown",
   "id": "herbal-cartoon",
   "metadata": {},
   "source": [
    "# Ejercicios de Pandas\n",
    "\n",
    "Antes de empezar, importemos los módulos que vamos a utilizar."
   ]
  },
  {
   "cell_type": "code",
   "execution_count": 1,
   "id": "gross-knitting",
   "metadata": {
    "tags": []
   },
   "outputs": [],
   "source": [
    "import numpy as np\n",
    "import pandas as pd"
   ]
  },
  {
   "cell_type": "markdown",
   "id": "local-sense",
   "metadata": {},
   "source": [
    "## Series"
   ]
  },
  {
   "cell_type": "markdown",
   "id": "sacred-cardiff",
   "metadata": {},
   "source": [
    "### Asigna el nombre \"alfabeto\" a la siguiente serie e imprímela.\n",
    "\n",
    "Pista: [pandas.Series.name](https://pandas.pydata.org/pandas-docs/stable/reference/api/pandas.Series.name.html)"
   ]
  },
  {
   "cell_type": "code",
   "execution_count": 2,
   "id": "foreign-washington",
   "metadata": {
    "tags": []
   },
   "outputs": [
    {
     "data": {
      "text/plain": [
       "0    a\n",
       "1    b\n",
       "2    c\n",
       "3    e\n",
       "4    d\n",
       "dtype: object"
      ]
     },
     "execution_count": 2,
     "metadata": {},
     "output_type": "execute_result"
    }
   ],
   "source": [
    "s = pd.Series(list('abcedfghijklmnopqrstuvwxyz'))\n",
    "s.head()"
   ]
  },
  {
   "cell_type": "code",
   "execution_count": 3,
   "id": "compressed-eight",
   "metadata": {
    "tags": []
   },
   "outputs": [
    {
     "name": "stdout",
     "output_type": "stream",
     "text": [
      "0     a\n",
      "1     b\n",
      "2     c\n",
      "3     e\n",
      "4     d\n",
      "5     f\n",
      "6     g\n",
      "7     h\n",
      "8     i\n",
      "9     j\n",
      "10    k\n",
      "11    l\n",
      "12    m\n",
      "13    n\n",
      "14    o\n",
      "15    p\n",
      "16    q\n",
      "17    r\n",
      "18    s\n",
      "19    t\n",
      "20    u\n",
      "21    v\n",
      "22    w\n",
      "23    x\n",
      "24    y\n",
      "25    z\n",
      "Name: alfabeto, dtype: object\n"
     ]
    }
   ],
   "source": [
    "# Solución\n",
    "s.name = \"alfabeto\"\n",
    "print(s)"
   ]
  },
  {
   "cell_type": "markdown",
   "id": "parliamentary-london",
   "metadata": {},
   "source": [
    "### Escribe una expresión que, dadas dos series, diga si todos los elementos de la primera son mayores que los correspondientes de la segunda.\n",
    "\n",
    "Pista: [pandas.Dataframe.all()](https://pandas.pydata.org/pandas-docs/version/1.5/reference/api/pandas.DataFrame.all.html)"
   ]
  },
  {
   "cell_type": "code",
   "execution_count": 6,
   "id": "diagnostic-toner",
   "metadata": {
    "tags": []
   },
   "outputs": [],
   "source": [
    "s1 = pd.Series(np.random.randint(1, 10, size=10))\n",
    "s2 = s1 + 1"
   ]
  },
  {
   "cell_type": "code",
   "execution_count": 7,
   "id": "92b7fa21",
   "metadata": {
    "tags": []
   },
   "outputs": [
    {
     "data": {
      "text/plain": [
       "np.False_"
      ]
     },
     "execution_count": 7,
     "metadata": {},
     "output_type": "execute_result"
    }
   ],
   "source": [
    "# Solución\n",
    "(s1 > s2).all()"
   ]
  },
  {
   "cell_type": "markdown",
   "id": "9cf4f6a1",
   "metadata": {},
   "source": [
    "### Escribe una expresión que, dadas dos series, diga si hay algún elemento de la primera es menor o igual que el correspondiente de la segunda.\n",
    "\n",
    "Pista: [pandas.Dataframe.any()](https://pandas.pydata.org/pandas-docs/version/1.5/reference/api/pandas.DataFrame.any.html)"
   ]
  },
  {
   "cell_type": "code",
   "execution_count": 8,
   "id": "65b40b3b",
   "metadata": {
    "tags": []
   },
   "outputs": [],
   "source": [
    "s1 = pd.Series(np.random.randint(1, 10, size=10))\n",
    "s2 = pd.Series(np.random.randint(1, 10, size=10))"
   ]
  },
  {
   "cell_type": "code",
   "execution_count": 9,
   "id": "better-cleaners",
   "metadata": {
    "tags": []
   },
   "outputs": [
    {
     "data": {
      "text/plain": [
       "np.True_"
      ]
     },
     "execution_count": 9,
     "metadata": {},
     "output_type": "execute_result"
    }
   ],
   "source": [
    "# Solución\n",
    "(s1 <= s2).any()"
   ]
  },
  {
   "cell_type": "markdown",
   "id": "public-royal",
   "metadata": {},
   "source": [
    "### Extrae todos los elementos de la serie dada que se encuentran en las posiciones indicadas por una lista."
   ]
  },
  {
   "cell_type": "code",
   "execution_count": 10,
   "id": "dedicated-treasurer",
   "metadata": {
    "tags": []
   },
   "outputs": [],
   "source": [
    "serie = pd.Series(list('abcdefghijklmnopqrstuvwxyz'))\n",
    "posicion = [0, 4, 8, 14, 20]"
   ]
  },
  {
   "cell_type": "code",
   "execution_count": 11,
   "id": "incorporate-telephone",
   "metadata": {
    "tags": []
   },
   "outputs": [
    {
     "data": {
      "text/plain": [
       "0     a\n",
       "4     e\n",
       "8     i\n",
       "14    o\n",
       "20    u\n",
       "dtype: object"
      ]
     },
     "execution_count": 11,
     "metadata": {},
     "output_type": "execute_result"
    }
   ],
   "source": [
    "# Solución\n",
    "serie[posicion]"
   ]
  },
  {
   "cell_type": "markdown",
   "id": "photographic-renaissance",
   "metadata": {},
   "source": [
    "### Construye una serie que sea el resultado de concatenar a una serie dada los elementos de otra.\n",
    "\n",
    "Muestra el resultado de concatenar `s1` y `s2`, y responde a estas preguntas: ¿Qué ha sucedido con el índice? ¿Cuál es el tipo de datos de la serie resultante? ¿Qué sucede si indexamos la serie con el índice `0`?\n",
    "\n",
    "Pista: [pandas.concat](https://pandas.pydata.org/pandas-docs/version/1.5/reference/api/pandas.concat.html)"
   ]
  },
  {
   "cell_type": "code",
   "execution_count": 12,
   "id": "classical-access",
   "metadata": {
    "tags": []
   },
   "outputs": [],
   "source": [
    "s1 = pd.Series(range(5))\n",
    "s2 = pd.Series([0.2, 0.3, 0.4])"
   ]
  },
  {
   "cell_type": "code",
   "execution_count": 14,
   "id": "warming-document",
   "metadata": {
    "tags": []
   },
   "outputs": [
    {
     "name": "stdout",
     "output_type": "stream",
     "text": [
      "0    0.0\n",
      "1    1.0\n",
      "2    2.0\n",
      "3    3.0\n",
      "4    4.0\n",
      "0    0.2\n",
      "1    0.3\n",
      "2    0.4\n",
      "dtype: float64\n"
     ]
    }
   ],
   "source": [
    "# Solución y respuestas a las preguntas\n",
    "resultado = pd.concat([s1,s2])\n",
    "print(resultado)\n",
    "\n",
    "# El índice no se ha reiniciado: se han mantenido los índices originales de s1 y s2, lo que causa que haya índices repetidos (0, 1, 2 aparecen dos veces).\n",
    "# Tipo float64\n",
    "# Esto devuelve solo el primer elemento con índice 0 (el 0.0 de s1). Si queremos todos los elementos con índice 0, debemos usar .loc"
   ]
  },
  {
   "cell_type": "markdown",
   "id": "surface-baghdad",
   "metadata": {},
   "source": [
    "### Ordena una serie, primero por el valor del índice y después por el valor de la serie, e imprímelas.\n",
    "\n",
    "Pistas: [pandas.Series.sort_index()](https://pandas.pydata.org/pandas-docs/stable/reference/api/pandas.Series.sort_index.html) y [pandas.Series.sort_values()](https://pandas.pydata.org/docs/reference/api/pandas.Series.sort_values.html)"
   ]
  },
  {
   "cell_type": "code",
   "execution_count": 4,
   "id": "4a170f64",
   "metadata": {},
   "outputs": [
    {
     "name": "stdout",
     "output_type": "stream",
     "text": [
      "3    1\n",
      "5    0\n",
      "1    4\n",
      "dtype: int64\n"
     ]
    }
   ],
   "source": [
    "serie = pd.Series({3: 1, 5: 0, 1: 4})\n",
    "print(serie)"
   ]
  },
  {
   "cell_type": "code",
   "execution_count": 6,
   "id": "governmental-express",
   "metadata": {
    "tags": []
   },
   "outputs": [
    {
     "name": "stdout",
     "output_type": "stream",
     "text": [
      "Ordenada por indices:\n",
      "1    4\n",
      "3    1\n",
      "5    0\n",
      "dtype: int64\n",
      "Ordenada por valores:\n",
      "5    0\n",
      "3    1\n",
      "1    4\n",
      "dtype: int64\n"
     ]
    }
   ],
   "source": [
    "# Solución\n",
    "print(\"Ordenada por indices:\")\n",
    "print(serie.sort_index())\n",
    "print(\"Ordenada por valores:\")\n",
    "print(serie.sort_values())"
   ]
  },
  {
   "cell_type": "markdown",
   "id": "introductory-lancaster",
   "metadata": {},
   "source": [
    "### Calcula la media del error cuadrático entre dos series.\n",
    "\n",
    "Nota: La fórmula del error cuadrático entre $x$ e $y$ es $(x - y)^2$."
   ]
  },
  {
   "cell_type": "code",
   "execution_count": 7,
   "id": "turned-meaning",
   "metadata": {
    "tags": []
   },
   "outputs": [
    {
     "name": "stdout",
     "output_type": "stream",
     "text": [
      "0    0\n",
      "1    1\n",
      "2    2\n",
      "3    3\n",
      "4    4\n",
      "5    5\n",
      "6    6\n",
      "7    7\n",
      "8    8\n",
      "9    9\n",
      "dtype: int64\n",
      "0    0.548814\n",
      "1    1.715189\n",
      "2    2.602763\n",
      "3    3.544883\n",
      "4    4.423655\n",
      "5    5.645894\n",
      "6    6.437587\n",
      "7    7.891773\n",
      "8    8.963663\n",
      "9    9.383442\n",
      "dtype: float64\n"
     ]
    }
   ],
   "source": [
    "np.random.seed(0)\n",
    "x = pd.Series(range(10))\n",
    "y = pd.Series(range(10)) + np.random.random(10)\n",
    "print(x)\n",
    "print(y)"
   ]
  },
  {
   "cell_type": "code",
   "execution_count": 8,
   "id": "vanilla-species",
   "metadata": {
    "tags": []
   },
   "outputs": [
    {
     "name": "stdout",
     "output_type": "stream",
     "text": [
      "Media del error cuadrático:  0.41319910235287544\n"
     ]
    }
   ],
   "source": [
    "# Solución\n",
    "mse = ((x-y)**2).mean()\n",
    "print(\"Media del error cuadrático: \",mse)"
   ]
  },
  {
   "cell_type": "markdown",
   "id": "wrapped-trail",
   "metadata": {},
   "source": [
    "### Convierte la siguiente serie de fechas introducidas como cadenas a una serie de tipo `datetime` llamada `fechasdt`. \n",
    "\n",
    "Pista: [pandas.to_datetime()](https://pandas.pydata.org/pandas-docs/version/1.5/reference/api/pandas.to_datetime.html)"
   ]
  },
  {
   "cell_type": "code",
   "execution_count": 11,
   "id": "premium-emperor",
   "metadata": {
    "tags": []
   },
   "outputs": [],
   "source": [
    "fechas = pd.Series(['02 Jan 2010T00:00:01',\n",
    "                    '02-02-2011',\n",
    "                    '20120303',\n",
    "                    '2013/04/04',\n",
    "                    '2014-05-05',\n",
    "                    '2015-06-06T12:20'])"
   ]
  },
  {
   "cell_type": "code",
   "execution_count": 13,
   "id": "sacred-quick",
   "metadata": {
    "tags": []
   },
   "outputs": [
    {
     "name": "stdout",
     "output_type": "stream",
     "text": [
      "0   2010-01-02 00:00:01\n",
      "1   2011-02-02 00:00:00\n",
      "2   2012-03-03 00:00:00\n",
      "3   2013-04-04 00:00:00\n",
      "4   2014-05-05 00:00:00\n",
      "5   2015-06-06 12:20:00\n",
      "dtype: datetime64[ns]\n"
     ]
    }
   ],
   "source": [
    "# Solución\n",
    "fechasdt = pd.to_datetime(fechas, format='mixed')\n",
    "print(fechasdt)"
   ]
  },
  {
   "cell_type": "markdown",
   "id": "polar-carpet",
   "metadata": {},
   "source": [
    "### Crea tres series a partir de la serie `fechasdt` anterior llamadas `days`, `months` y `years`, donde cada una contenga el día, el mes y el año de cada fecha, respectivamente.\n",
    "\n",
    "Pista: Una serie del tipo `datetime` tiene un atributo `.dt` con métodos para acceder al día, mes y año, por ejemplo, [pandas.Series.dt.day()](https://pandas.pydata.org/pandas-docs/version/1.5/reference/api/pandas.Series.dt.day.html)."
   ]
  },
  {
   "cell_type": "code",
   "execution_count": 14,
   "id": "automatic-democrat",
   "metadata": {
    "tags": []
   },
   "outputs": [
    {
     "name": "stdout",
     "output_type": "stream",
     "text": [
      "Dias:\n",
      " 0    2\n",
      "1    2\n",
      "2    3\n",
      "3    4\n",
      "4    5\n",
      "5    6\n",
      "dtype: int32\n",
      "\n",
      "Meses:\n",
      " 0    1\n",
      "1    2\n",
      "2    3\n",
      "3    4\n",
      "4    5\n",
      "5    6\n",
      "dtype: int32\n",
      "\n",
      "Años:\n",
      " 0    2010\n",
      "1    2011\n",
      "2    2012\n",
      "3    2013\n",
      "4    2014\n",
      "5    2015\n",
      "dtype: int32\n"
     ]
    }
   ],
   "source": [
    "# Solución\n",
    "days = fechasdt.dt.day\n",
    "months = fechasdt.dt.month\n",
    "years = fechasdt.dt.year\n",
    "\n",
    "print(\"Dias:\\n\",days)\n",
    "print(\"\\nMeses:\\n\",months)\n",
    "print(\"\\nAños:\\n\",years)"
   ]
  },
  {
   "cell_type": "markdown",
   "id": "intelligent-sponsorship",
   "metadata": {},
   "source": [
    "### Crea una serie con valores aleatorios enteros entre 1 y 10, pero cuyo índice tenga 12 objetos del tipo `datetime` con el primer día de cada mes del año 2024\n",
    "\n",
    "El índice deben empezar por el **01-01-2024** y terminar en el **01-12-2024**.\n",
    "\n",
    "Pistas: [numpy.random.randint](https://numpy.org/doc/stable/reference/random/generated/numpy.random.randint.html()) y [pandas.date_range()](https://pandas.pydata.org/pandas-docs/version/1.5/reference/api/pandas.date_range.html)"
   ]
  },
  {
   "cell_type": "code",
   "execution_count": 16,
   "id": "neural-trauma",
   "metadata": {
    "tags": []
   },
   "outputs": [
    {
     "name": "stdout",
     "output_type": "stream",
     "text": [
      "2024-01-01    4\n",
      "2024-02-01    6\n",
      "2024-03-01    1\n",
      "2024-04-01    3\n",
      "2024-05-01    4\n",
      "2024-06-01    9\n",
      "2024-07-01    2\n",
      "2024-08-01    4\n",
      "2024-09-01    4\n",
      "2024-10-01    4\n",
      "2024-11-01    8\n",
      "2024-12-01    1\n",
      "Freq: MS, dtype: int32\n"
     ]
    }
   ],
   "source": [
    "# Solución\n",
    "fechas = pd.date_range(start='2024-01-01', end='2024-12-01', freq='MS')\n",
    "valores = np.random.randint(1, 11, size=12)\n",
    "serie = pd.Series(valores, index=fechas)\n",
    "print(serie)"
   ]
  },
  {
   "cell_type": "markdown",
   "id": "bibliographic-think",
   "metadata": {},
   "source": [
    "## DataFrames"
   ]
  },
  {
   "cell_type": "markdown",
   "id": "elementary-assistant",
   "metadata": {},
   "source": [
    "### Dadas las siguientes series que representan frutas, precio y peso comprado de cada una de ellas, construye un `Dataframe` y obtén tanto el precio medio como el peso medio de cada tipo de fruta.\n",
    "\n",
    "Pista: [pandas.Series.groupby()](https://pandas.pydata.org/pandas-docs/version/1.5/reference/api/pandas.Series.groupby.html)"
   ]
  },
  {
   "cell_type": "code",
   "execution_count": 17,
   "id": "baking-guatemala",
   "metadata": {},
   "outputs": [
    {
     "name": "stdout",
     "output_type": "stream",
     "text": [
      "['manzana', 'banana', 'manzana', 'banana', 'banana', 'zanahoria', 'manzana', 'zanahoria', 'manzana', 'manzana']\n",
      "[0.8179688837403396, 1.4329953519640495, 2.4365061863264796, 1.439931517125172, 1.1783543883024892, 2.5082362906121327, 1.0121884812518052, 1.9445156161535917, 1.1047246195216438, 2.871465476859139]\n",
      "[4, 4, 1, 3, 4, 1, 2, 4, 2, 4]\n"
     ]
    }
   ],
   "source": [
    "np.random.seed(0)\n",
    "frutas = pd.Series(np.random.choice(['manzana', 'banana', 'zanahoria'], 10))\n",
    "precios = pd.Series(np.random.sample(10) * 3)\n",
    "pesos = pd.Series(np.random.randint(1, 5, 10))\n",
    "\n",
    "print(frutas.tolist())\n",
    "print(precios.tolist())\n",
    "print(pesos.tolist())"
   ]
  },
  {
   "cell_type": "code",
   "execution_count": 18,
   "id": "charitable-pixel",
   "metadata": {
    "tags": []
   },
   "outputs": [
    {
     "name": "stdout",
     "output_type": "stream",
     "text": [
      "DataFrame original:\n",
      "        Fruta    Precio  Peso\n",
      "0    manzana  0.817969     4\n",
      "1     banana  1.432995     4\n",
      "2    manzana  2.436506     1\n",
      "3     banana  1.439932     3\n",
      "4     banana  1.178354     4\n",
      "5  zanahoria  2.508236     1\n",
      "6    manzana  1.012188     2\n",
      "7  zanahoria  1.944516     4\n",
      "8    manzana  1.104725     2\n",
      "9    manzana  2.871465     4\n",
      "\n",
      "Precio y peso medio por fruta:\n",
      "              Precio      Peso\n",
      "Fruta                        \n",
      "banana     1.350427  3.666667\n",
      "manzana    1.648571  2.600000\n",
      "zanahoria  2.226376  2.500000\n"
     ]
    }
   ],
   "source": [
    "# Solución\n",
    "df = pd.DataFrame({'Fruta':frutas, 'Precio': precios, 'Peso': pesos})\n",
    "medias = df.groupby('Fruta')[['Precio','Peso']].mean()\n",
    "\n",
    "print(\"DataFrame original:\\n\",df)\n",
    "print('\\nPrecio y peso medio por fruta:\\n',medias)"
   ]
  },
  {
   "cell_type": "markdown",
   "id": "willing-mistress",
   "metadata": {
    "tags": []
   },
   "source": [
    "### Crea un `DataFrame` a partir del archivo `planets.csv` seleccionando solamente las columnas `method`,  `year` y `distance`, y calcula el número elementos que tiene.\n",
    "\n",
    "Pista: [pandas.read_csv](https://pandas.pydata.org/pandas-docs/stable/reference/api/pandas.read_csv.html)"
   ]
  },
  {
   "cell_type": "code",
   "execution_count": 21,
   "id": "brutal-elder",
   "metadata": {
    "tags": []
   },
   "outputs": [
    {
     "name": "stdout",
     "output_type": "stream",
     "text": [
      "            method  distance  year\n",
      "0  Radial Velocity     77.40  2006\n",
      "1  Radial Velocity     56.95  2008\n",
      "2  Radial Velocity     19.84  2011\n",
      "3  Radial Velocity    110.62  2007\n",
      "4  Radial Velocity    119.47  2009\n",
      "\n",
      "Numero total de elementos:  3105\n"
     ]
    }
   ],
   "source": [
    "# Solución\n",
    "df = pd.read_csv('planets.csv', usecols=['method','year','distance'])\n",
    "print(df.head())\n",
    "\n",
    "num_elementos = df.size\n",
    "print(\"\\nNumero total de elementos: \", num_elementos)"
   ]
  },
  {
   "cell_type": "markdown",
   "id": "8d603eda",
   "metadata": {},
   "source": [
    "### Calcula cuantos planetas se han descubierto usando cada método de detección a partir del *dataset* de planetas anterior."
   ]
  },
  {
   "cell_type": "code",
   "execution_count": 22,
   "id": "e91c6ae2",
   "metadata": {},
   "outputs": [
    {
     "name": "stdout",
     "output_type": "stream",
     "text": [
      "method\n",
      "Radial Velocity                  553\n",
      "Transit                          397\n",
      "Imaging                           38\n",
      "Microlensing                      23\n",
      "Eclipse Timing Variations          9\n",
      "Pulsar Timing                      5\n",
      "Transit Timing Variations          4\n",
      "Orbital Brightness Modulation      3\n",
      "Astrometry                         2\n",
      "Pulsation Timing Variations        1\n",
      "Name: count, dtype: int64\n"
     ]
    }
   ],
   "source": [
    "# Solución\n",
    "conteo = df['method'].value_counts()\n",
    "print(conteo)"
   ]
  },
  {
   "cell_type": "markdown",
   "id": "dbb0dadf",
   "metadata": {},
   "source": [
    "### Determina en qué año se descubrieron más planetas a partir del *dataset* de planetas anterior."
   ]
  },
  {
   "cell_type": "code",
   "execution_count": 24,
   "id": "49101064",
   "metadata": {},
   "outputs": [
    {
     "name": "stdout",
     "output_type": "stream",
     "text": [
      "year\n",
      "2011    185\n",
      "2012    140\n",
      "2013    118\n",
      "2010    102\n",
      "2009     98\n",
      "2008     74\n",
      "2007     53\n",
      "2014     52\n",
      "2005     39\n",
      "2002     32\n",
      "2006     31\n",
      "2004     26\n",
      "2003     25\n",
      "2000     16\n",
      "1999     15\n",
      "2001     12\n",
      "1996      6\n",
      "1998      5\n",
      "1992      2\n",
      "1995      1\n",
      "1997      1\n",
      "1989      1\n",
      "1994      1\n",
      "Name: count, dtype: int64\n",
      "El año con mas descubrimientos: 2011 con 185 descubrimientos\n"
     ]
    }
   ],
   "source": [
    "# Solución\n",
    "descubrimientos_por_año = df['year'].value_counts()\n",
    "print(descubrimientos_por_año)\n",
    "\n",
    "año_max = descubrimientos_por_año.idxmax()\n",
    "cantidad_max = descubrimientos_por_año.max()\n",
    "\n",
    "print(f\"El año con mas descubrimientos: {año_max} con {cantidad_max} descubrimientos\")"
   ]
  },
  {
   "cell_type": "markdown",
   "id": "adverse-surprise",
   "metadata": {},
   "source": [
    "### Create un `DataFrame` a partir del *dataset* de coches [Cars93_miss.csv](https://raw.githubusercontent.com/selva86/datasets/master/Cars93_miss.csv), y encuentra el fabricante, modelo, tipo y precio del coche más caro (solamente deben devolverse esas columnas).\n",
    "\n",
    "En primer lugar, crea el dataset a partir de la URL anterior:"
   ]
  },
  {
   "cell_type": "code",
   "execution_count": 26,
   "id": "attractive-priority",
   "metadata": {
    "tags": []
   },
   "outputs": [
    {
     "name": "stdout",
     "output_type": "stream",
     "text": [
      "   Manufacturer    Model     Type  Min.Price  Price  Max.Price  MPG.city  \\\n",
      "0         Acura  Integra    Small       12.9   15.9       18.8      25.0   \n",
      "1           NaN   Legend  Midsize       29.2   33.9       38.7      18.0   \n",
      "2          Audi       90  Compact       25.9   29.1       32.3      20.0   \n",
      "3          Audi      100  Midsize        NaN   37.7       44.6      19.0   \n",
      "4           BMW     535i  Midsize        NaN   30.0        NaN      22.0   \n",
      "..          ...      ...      ...        ...    ...        ...       ...   \n",
      "88   Volkswagen  Eurovan      Van       16.6   19.7       22.7      17.0   \n",
      "89   Volkswagen   Passat  Compact       17.6   20.0       22.4      21.0   \n",
      "90   Volkswagen  Corrado   Sporty       22.9   23.3       23.7      18.0   \n",
      "91        Volvo      240  Compact       21.8   22.7       23.5      21.0   \n",
      "92          NaN      850  Midsize       24.8   26.7       28.5      20.0   \n",
      "\n",
      "    MPG.highway             AirBags DriveTrain  ... Passengers  Length  \\\n",
      "0          31.0                 NaN      Front  ...        5.0   177.0   \n",
      "1          25.0  Driver & Passenger      Front  ...        5.0   195.0   \n",
      "2          26.0         Driver only      Front  ...        5.0   180.0   \n",
      "3          26.0  Driver & Passenger        NaN  ...        6.0   193.0   \n",
      "4          30.0                 NaN       Rear  ...        4.0   186.0   \n",
      "..          ...                 ...        ...  ...        ...     ...   \n",
      "88         21.0                 NaN      Front  ...        7.0   187.0   \n",
      "89         30.0                 NaN      Front  ...        5.0   180.0   \n",
      "90         25.0                 NaN      Front  ...        4.0   159.0   \n",
      "91         28.0         Driver only       Rear  ...        5.0   190.0   \n",
      "92         28.0  Driver & Passenger      Front  ...        5.0   184.0   \n",
      "\n",
      "    Wheelbase  Width  Turn.circle Rear.seat.room  Luggage.room  Weight  \\\n",
      "0       102.0   68.0         37.0           26.5           NaN  2705.0   \n",
      "1       115.0   71.0         38.0           30.0          15.0  3560.0   \n",
      "2       102.0   67.0         37.0           28.0          14.0  3375.0   \n",
      "3       106.0    NaN         37.0           31.0          17.0  3405.0   \n",
      "4       109.0   69.0         39.0           27.0          13.0  3640.0   \n",
      "..        ...    ...          ...            ...           ...     ...   \n",
      "88      115.0   72.0         38.0           34.0           NaN  3960.0   \n",
      "89      103.0   67.0         35.0           31.5          14.0  2985.0   \n",
      "90       97.0   66.0         36.0           26.0          15.0  2810.0   \n",
      "91      104.0   67.0         37.0           29.5          14.0  2985.0   \n",
      "92      105.0   69.0         38.0           30.0          15.0  3245.0   \n",
      "\n",
      "     Origin                Make  \n",
      "0   non-USA       Acura Integra  \n",
      "1   non-USA        Acura Legend  \n",
      "2   non-USA             Audi 90  \n",
      "3   non-USA            Audi 100  \n",
      "4   non-USA            BMW 535i  \n",
      "..      ...                 ...  \n",
      "88      NaN  Volkswagen Eurovan  \n",
      "89  non-USA   Volkswagen Passat  \n",
      "90  non-USA  Volkswagen Corrado  \n",
      "91  non-USA           Volvo 240  \n",
      "92  non-USA           Volvo 850  \n",
      "\n",
      "[93 rows x 27 columns]\n"
     ]
    }
   ],
   "source": [
    "# Solución\n",
    "url = \"https://raw.githubusercontent.com/selva86/datasets/master/Cars93_miss.csv\"\n",
    "df = pd.read_csv(url)\n",
    "print(df)"
   ]
  },
  {
   "cell_type": "markdown",
   "id": "ce3212f3",
   "metadata": {},
   "source": [
    "Luego, muestra el precio del coche más caro, para lo cual puedes usar [pandas.DataFrame.max()](https://pandas.pydata.org/pandas-docs/version/1.5/reference/api/pandas.DataFrame.max.html):"
   ]
  },
  {
   "cell_type": "code",
   "execution_count": 27,
   "id": "12d97868",
   "metadata": {
    "tags": []
   },
   "outputs": [
    {
     "name": "stdout",
     "output_type": "stream",
     "text": [
      "61.9\n"
     ]
    }
   ],
   "source": [
    "# Solución\n",
    "precio_max = df['Price'].max()\n",
    "print(precio_max)"
   ]
  },
  {
   "cell_type": "markdown",
   "id": "b01132a8",
   "metadata": {},
   "source": [
    "A continuación, genera una serie de valores booleanos con el resultado de la comparación con dicho precio:"
   ]
  },
  {
   "cell_type": "code",
   "execution_count": 29,
   "id": "b7a4713e",
   "metadata": {
    "tags": []
   },
   "outputs": [
    {
     "name": "stdout",
     "output_type": "stream",
     "text": [
      "0     False\n",
      "1     False\n",
      "2     False\n",
      "3     False\n",
      "4     False\n",
      "      ...  \n",
      "88    False\n",
      "89    False\n",
      "90    False\n",
      "91    False\n",
      "92    False\n",
      "Name: Price, Length: 93, dtype: bool\n"
     ]
    }
   ],
   "source": [
    "# Solución\n",
    "es_mas_caro = df['Price'] == precio_max\n",
    "print(es_mas_caro)"
   ]
  },
  {
   "cell_type": "markdown",
   "id": "b84c063f",
   "metadata": {},
   "source": [
    "A partir de la expresión anterior, obtén la fila del dataframe que cumple la condición de precio máximo con [pandas.DataFrame.loc()](https://pandas.pydata.org/pandas-docs/version/1.5/reference/api/pandas.DataFrame.loc.html): "
   ]
  },
  {
   "cell_type": "code",
   "execution_count": 30,
   "id": "a879df30",
   "metadata": {
    "tags": []
   },
   "outputs": [
    {
     "name": "stdout",
     "output_type": "stream",
     "text": [
      "     Manufacturer Model     Type  Min.Price  Price  Max.Price  MPG.city  \\\n",
      "58  Mercedes-Benz  300E  Midsize       43.8   61.9       80.0      19.0   \n",
      "\n",
      "    MPG.highway             AirBags DriveTrain  ... Passengers  Length  \\\n",
      "58         25.0  Driver & Passenger       Rear  ...        5.0     NaN   \n",
      "\n",
      "    Wheelbase  Width  Turn.circle Rear.seat.room  Luggage.room  Weight  \\\n",
      "58      110.0   69.0         37.0            NaN          15.0  3525.0   \n",
      "\n",
      "     Origin                Make  \n",
      "58  non-USA  Mercedes-Benz 300E  \n",
      "\n",
      "[1 rows x 27 columns]\n"
     ]
    }
   ],
   "source": [
    "# Solución\n",
    "coche_mas_caro = df.loc[es_mas_caro]\n",
    "print(coche_mas_caro)"
   ]
  },
  {
   "cell_type": "markdown",
   "id": "b62675e5",
   "metadata": {},
   "source": [
    "Por último, selecciona únicamente las columnas del dataframe indicadas (fabricante, modelo, tipo, precio):"
   ]
  },
  {
   "cell_type": "code",
   "execution_count": 31,
   "id": "linear-boundary",
   "metadata": {
    "tags": []
   },
   "outputs": [
    {
     "name": "stdout",
     "output_type": "stream",
     "text": [
      "     Manufacturer Model     Type  Price\n",
      "58  Mercedes-Benz  300E  Midsize   61.9\n"
     ]
    }
   ],
   "source": [
    "# Solución\n",
    "resultado = coche_mas_caro[['Manufacturer','Model','Type','Price']]\n",
    "print(resultado)"
   ]
  },
  {
   "cell_type": "markdown",
   "id": "younger-ivory",
   "metadata": {},
   "source": [
    "### Calcula una nueva columna `Norm.price` en el *dataset* de coches anterior con el precio normalizado con respecto a su valor máximo y mínimo ().\n",
    "\n",
    "Nota: Esta normalización se realiza con la siguiente operación: $(precio - precioMinimo)/(precioMaximo - precioMinimo)$"
   ]
  },
  {
   "cell_type": "code",
   "execution_count": 32,
   "id": "boring-married",
   "metadata": {
    "tags": []
   },
   "outputs": [
    {
     "name": "stdout",
     "output_type": "stream",
     "text": [
      "   Price  Norm.price\n",
      "0   15.9    0.155963\n",
      "1   33.9    0.486239\n",
      "2   29.1    0.398165\n",
      "3   37.7    0.555963\n",
      "4   30.0    0.414679\n"
     ]
    }
   ],
   "source": [
    "# Solución\n",
    "precio_min = df['Price'].min()\n",
    "precio_max = df['Price'].max()\n",
    "\n",
    "df['Norm.price'] = (df['Price'] - precio_min) / (precio_max - precio_min)\n",
    "\n",
    "print(df[['Price', 'Norm.price']].head())"
   ]
  },
  {
   "cell_type": "markdown",
   "id": "considerable-mobility",
   "metadata": {},
   "source": [
    "### Encuentra los tres vehículos con mayor precio (`Price`), ignorando los que no tengan precio asignado (NaN), en el *dataset* de coches anterior.\n",
    "\n",
    "Pista: Averigua para qué sirve el parámetro `subset` de [pandas.DataFrame.dropna()](https://pandas.pydata.org/pandas-docs/version/1.5/reference/api/pandas.DataFrame.dropna.html)."
   ]
  },
  {
   "cell_type": "code",
   "execution_count": 33,
   "id": "0a2f58fa",
   "metadata": {
    "tags": []
   },
   "outputs": [
    {
     "name": "stdout",
     "output_type": "stream",
     "text": [
      "                  Make    Model     Type  Price\n",
      "58  Mercedes-Benz 300E     300E  Midsize   61.9\n",
      "47        Infiniti Q45      Q45  Midsize   47.9\n",
      "10    Cadillac Seville  Seville  Midsize   40.1\n"
     ]
    }
   ],
   "source": [
    "# Solución\n",
    "df2 = df.dropna(subset=['Price'])\n",
    "top3 = df2.sort_values(by='Price', ascending=False).head(3)\n",
    "\n",
    "print(top3[['Make','Model','Type','Price']])"
   ]
  },
  {
   "cell_type": "markdown",
   "id": "0d0ed5c0-046a-4b1c-b6ef-e3b08f41d8fe",
   "metadata": {
    "tags": []
   },
   "source": [
    "### Crea un `DataFrame` a partir del archivo `california_cities.csv` y muestra la población total de la ciudad con más habitantes (se deben mostrar las columnas `city` y `population_total`)."
   ]
  },
  {
   "cell_type": "code",
   "execution_count": 36,
   "id": "6ecfa4f6-e471-4dd7-a79b-7fcca86e0051",
   "metadata": {
    "tags": []
   },
   "outputs": [
    {
     "name": "stdout",
     "output_type": "stream",
     "text": [
      "           city  population_total\n",
      "239  LosAngeles           3884307\n"
     ]
    }
   ],
   "source": [
    "# Solución\n",
    "df_cities = pd.read_csv('california_cities.csv')\n",
    "ciudad_mas_poblada = df_cities.sort_values(by='population_total',ascending=False).head(1)\n",
    "\n",
    "print(ciudad_mas_poblada[['city','population_total']])"
   ]
  },
  {
   "cell_type": "markdown",
   "id": "cb906059",
   "metadata": {},
   "source": [
    "### Determina cuál es la población de la ciudad más septentional de California a partir del *dataset* de ciudades anterior (se deben mostrar las columnas `city`, `latd` y `population_total`)."
   ]
  },
  {
   "cell_type": "code",
   "execution_count": 37,
   "id": "dd2354da",
   "metadata": {},
   "outputs": [
    {
     "name": "stdout",
     "output_type": "stream",
     "text": [
      "       city    latd  population_total\n",
      "114  Dorris  41.965               939\n"
     ]
    }
   ],
   "source": [
    "# Solución\n",
    "ciudad_norte = df_cities.sort_values(by='latd',ascending=False).head(1)\n",
    "\n",
    "print(ciudad_norte[['city','latd','population_total']])"
   ]
  },
  {
   "cell_type": "markdown",
   "id": "ff65e6f2",
   "metadata": {},
   "source": [
    "### Calcula la densidad de población de la ciudad de California que se encuentra a mayor altitud a partir del *dataset* de ciudades anterior (se deben mostrar las columnas `city`, `elevation_m` y `area_total_km2`, así cómo la densidad de población total en habitantes por kilómetro cuadrado)"
   ]
  },
  {
   "cell_type": "code",
   "execution_count": 38,
   "id": "65fa0586",
   "metadata": {},
   "outputs": [
    {
     "name": "stdout",
     "output_type": "stream",
     "text": [
      "             city  elevation_m  area_total_km2\n",
      "246  MammothLakes       2402.0          65.541\n",
      "Densidad de población: 125.63 habitantes/km²\n"
     ]
    }
   ],
   "source": [
    "# Solución\n",
    "df_cities = df_cities.dropna(subset=['elevation_m', 'area_total_km2', 'population_total'])\n",
    "ciudad_mas_alta = df_cities.sort_values(by='elevation_m', ascending=False).head(1)\n",
    "densidad = ciudad_mas_alta['population_total'].values[0] / ciudad_mas_alta['area_total_km2'].values[0]\n",
    "\n",
    "print(ciudad_mas_alta[['city', 'elevation_m', 'area_total_km2']])\n",
    "print(f\"Densidad de población: {densidad:.2f} habitantes/km²\")\n"
   ]
  }
 ],
 "metadata": {
  "kernelspec": {
   "display_name": "Python 3",
   "language": "python",
   "name": "python3"
  },
  "language_info": {
   "codemirror_mode": {
    "name": "ipython",
    "version": 3
   },
   "file_extension": ".py",
   "mimetype": "text/x-python",
   "name": "python",
   "nbconvert_exporter": "python",
   "pygments_lexer": "ipython3",
   "version": "3.12.10"
  },
  "toc": {
   "base_numbering": 1,
   "nav_menu": {},
   "number_sections": true,
   "sideBar": true,
   "skip_h1_title": false,
   "title_cell": "Tabla de contenidos",
   "title_sidebar": "Contents",
   "toc_cell": true,
   "toc_position": {
    "height": "calc(100% - 180px)",
    "left": "10px",
    "top": "150px",
    "width": "376.35px"
   },
   "toc_section_display": true,
   "toc_window_display": true
  },
  "toc-autonumbering": true
 },
 "nbformat": 4,
 "nbformat_minor": 5
}
