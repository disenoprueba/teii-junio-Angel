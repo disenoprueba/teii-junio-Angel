{
 "cells": [
  {
   "cell_type": "markdown",
   "id": "39938e2f-7834-4881-8fe0-0091e412f110",
   "metadata": {
    "toc-hr-collapsed": true
   },
   "source": [
    "# Alumno"
   ]
  },
  {
   "cell_type": "markdown",
   "id": "48332deb-2090-4822-8426-5df5bbaaf0ee",
   "metadata": {},
   "source": [
    "Ángel Castaño Cascales"
   ]
  },
  {
   "cell_type": "markdown",
   "id": "pressing-personality",
   "metadata": {
    "toc-hr-collapsed": true
   },
   "source": [
    "# Ejercicios de nivel básico"
   ]
  },
  {
   "cell_type": "markdown",
   "id": "literary-newsletter",
   "metadata": {
    "tags": [],
    "toc-hr-collapsed": true
   },
   "source": [
    "## Listas y diccionarios"
   ]
  },
  {
   "cell_type": "markdown",
   "id": "assured-emperor",
   "metadata": {},
   "source": [
    "### Dada una frase sin signos de puntuación, calcula la lista de las longitudes de las palabras que contiene.\n",
    "\n",
    "Resuélvelo tanto con un bucle clásico como usando *list comprehensions*."
   ]
  },
  {
   "cell_type": "code",
   "execution_count": 6,
   "id": "working-carroll",
   "metadata": {},
   "outputs": [],
   "source": [
    "sentence = \"the quick brown fox jumps over the lazy dog\""
   ]
  },
  {
   "cell_type": "code",
   "execution_count": 2,
   "id": "875ea55b",
   "metadata": {},
   "outputs": [
    {
     "name": "stdout",
     "output_type": "stream",
     "text": [
      "[3, 5, 5, 3, 5, 4, 3, 4, 3]\n"
     ]
    }
   ],
   "source": [
    "# Solución con un bucle clásico\n",
    "palabras = sentence.split()\n",
    "longitudes = []\n",
    "\n",
    "for p in palabras:\n",
    "    longitudes.append(len(p))\n",
    "\n",
    "print(longitudes)"
   ]
  },
  {
   "cell_type": "code",
   "execution_count": 8,
   "id": "fa0459b4",
   "metadata": {},
   "outputs": [
    {
     "name": "stdout",
     "output_type": "stream",
     "text": [
      "[3, 5, 5, 3, 5, 4, 3, 4, 3]\n"
     ]
    }
   ],
   "source": [
    "# Solución con list comprehension\n",
    "longitudes = [len(p) for p in sentence.split()]\n",
    "print(longitudes)"
   ]
  },
  {
   "cell_type": "markdown",
   "id": "robust-expression",
   "metadata": {},
   "source": [
    "### Dada una lista de números, obtén la lista de los elementos que son positivos.\n",
    "\n",
    "Resuélvelo tanto con un bucle clásico como usando *list comprehensions*."
   ]
  },
  {
   "cell_type": "code",
   "execution_count": 9,
   "id": "reverse-fiction",
   "metadata": {},
   "outputs": [],
   "source": [
    "numbers = [2.2, -3.4, 1.0, 5.6, -1.2]"
   ]
  },
  {
   "cell_type": "code",
   "execution_count": 10,
   "id": "5b72f916",
   "metadata": {},
   "outputs": [
    {
     "name": "stdout",
     "output_type": "stream",
     "text": [
      "[2.2, 1.0, 5.6]\n"
     ]
    }
   ],
   "source": [
    "# Solución con un bucle clásico\n",
    "positivos = []\n",
    "\n",
    "for n in numbers:\n",
    "    if n > 0:\n",
    "        positivos.append(n)\n",
    "\n",
    "print(positivos)"
   ]
  },
  {
   "cell_type": "code",
   "execution_count": 11,
   "id": "3871d759",
   "metadata": {},
   "outputs": [
    {
     "name": "stdout",
     "output_type": "stream",
     "text": [
      "[2.2, 1.0, 5.6]\n"
     ]
    }
   ],
   "source": [
    "\n",
    "# Solución con list comprehension\n",
    "positivos = [n for n in numbers if n>0]\n",
    "print(positivos)"
   ]
  },
  {
   "cell_type": "markdown",
   "id": "sunset-identifier",
   "metadata": {},
   "source": [
    "### Dado el siguiente diccionario con pares `\"nombre\": peso`, extrae una lista con los nombres de los vehículos que pesan menos de 5000 kilos.\n",
    "\n",
    "Los nombres de la lista extraída deben estar en minúsculas.\n",
    "\n",
    "Resuélvelo usando *list comprehensions*."
   ]
  },
  {
   "cell_type": "code",
   "execution_count": 12,
   "id": "failing-championship",
   "metadata": {},
   "outputs": [],
   "source": [
    "vehicles = {\n",
    "    \"Sedan\": 1500,\n",
    "    \"SUV\": 2000,\n",
    "    \"Pickup\": 2500,\n",
    "    \"Minivan\": 1600,\n",
    "    \"Van\": 2400,\n",
    "    \"Semi\": 13600,\n",
    "    \"Bicycle\": 7,\n",
    "    \"Motorcycle\": 110\n",
    "}"
   ]
  },
  {
   "cell_type": "code",
   "execution_count": 13,
   "id": "homeless-graduation",
   "metadata": {},
   "outputs": [
    {
     "name": "stdout",
     "output_type": "stream",
     "text": [
      "['sedan', 'suv', 'pickup', 'minivan', 'van', 'bicycle', 'motorcycle']\n"
     ]
    }
   ],
   "source": [
    "# Solución con list comprehension\n",
    "ligeros = [nombre.lower() for nombre, peso in vehicles.items() if peso < 5000]\n",
    "print(ligeros)"
   ]
  },
  {
   "cell_type": "markdown",
   "id": "concrete-hurricane",
   "metadata": {},
   "source": [
    "### Crea una lista `lst2` con el tipo de cada elemento de la lista `lst1`.\n",
    "\n",
    "Resuélvelo tanto con un bucle clásico como usando *list comprehensions*."
   ]
  },
  {
   "cell_type": "code",
   "execution_count": 14,
   "id": "limiting-minority",
   "metadata": {},
   "outputs": [],
   "source": [
    "lst1 = [3.14, 66, \"osito\", True, [], {}]"
   ]
  },
  {
   "cell_type": "code",
   "execution_count": 15,
   "id": "confident-replication",
   "metadata": {
    "tags": []
   },
   "outputs": [
    {
     "name": "stdout",
     "output_type": "stream",
     "text": [
      "[<class 'float'>, <class 'int'>, <class 'str'>, <class 'bool'>, <class 'list'>, <class 'dict'>]\n"
     ]
    }
   ],
   "source": [
    "# Solución con bucle clásico\n",
    "lista2 = []\n",
    "\n",
    "for elemento in lst1:\n",
    "    lista2.append(type(elemento))\n",
    "\n",
    "print(lista2)"
   ]
  },
  {
   "cell_type": "code",
   "execution_count": 17,
   "id": "e7c8ed49-360a-4cc5-acdf-358a8fac098b",
   "metadata": {
    "tags": []
   },
   "outputs": [
    {
     "name": "stdout",
     "output_type": "stream",
     "text": [
      "[<class 'float'>, <class 'int'>, <class 'str'>, <class 'bool'>, <class 'list'>, <class 'dict'>]\n"
     ]
    }
   ],
   "source": [
    "# Solución con list comprehension\n",
    "lista2 = [type(elemento) for elemento in lst1]\n",
    "print(lista2)"
   ]
  },
  {
   "cell_type": "markdown",
   "id": "known-watershed",
   "metadata": {},
   "source": [
    "### Usando la función `zip()`, crea un diccionario que forme sus pares `\"clave\": valor` a partir de las listas `lst1` y `lst2`."
   ]
  },
  {
   "cell_type": "code",
   "execution_count": 18,
   "id": "macro-filling",
   "metadata": {},
   "outputs": [],
   "source": [
    "lst1 = [\"Netflix\", \"Hulu\", \"Sling\", \"HBO\"]\n",
    "lst2 = [198, 166, 237, 125]"
   ]
  },
  {
   "cell_type": "code",
   "execution_count": 19,
   "id": "advance-science",
   "metadata": {},
   "outputs": [
    {
     "name": "stdout",
     "output_type": "stream",
     "text": [
      "{'Netflix': 198, 'Hulu': 166, 'Sling': 237, 'HBO': 125}\n"
     ]
    }
   ],
   "source": [
    "# Solución\n",
    "servicios = dict(zip(lst1,lst2))\n",
    "print(servicios)"
   ]
  },
  {
   "cell_type": "markdown",
   "id": "mounted-preliminary",
   "metadata": {},
   "source": [
    "### Crea una lista ordenada de tuplas `(\"nombre\", edad)` a partir de las listas `nombres` y `edades`.\n",
    "\n",
    "Pista: Usa las funciones `zip()` y `sorted()`"
   ]
  },
  {
   "cell_type": "code",
   "execution_count": 20,
   "id": "mediterranean-mission",
   "metadata": {},
   "outputs": [],
   "source": [
    "nombres = [\"Mike\", \"Danny\", \"Jim\", \"Annie\"]\n",
    "edades = [4, 12, 7, 19]"
   ]
  },
  {
   "cell_type": "code",
   "execution_count": 21,
   "id": "dominican-ocean",
   "metadata": {},
   "outputs": [
    {
     "name": "stdout",
     "output_type": "stream",
     "text": [
      "[('Mike', 4), ('Jim', 7), ('Danny', 12), ('Annie', 19)]\n"
     ]
    }
   ],
   "source": [
    "# Solución\n",
    "personas = list(zip(nombres, edades))\n",
    "personas_ordenadas = sorted(personas, key=lambda x: x[1])\n",
    "\n",
    "print(personas_ordenadas)"
   ]
  },
  {
   "cell_type": "markdown",
   "id": "former-crawford",
   "metadata": {},
   "source": [
    "### Crea un diccionario que asocie cada letra del rango a-z con su correspondiente codificación en Unicode. \n",
    "\n",
    "Pista: Usa las funciones `ord()` (que devuelve el código Unicode de un carácter) y `chr()` (que devuelve la letra asociada a su código Unicode): `{'a': 97, 'b': 98, 'c': 99, ..., 'z': 122}`.\n",
    "\n",
    "Resuélvelo tanto con un bucle clásico como usando *dict comprehensions*."
   ]
  },
  {
   "cell_type": "code",
   "execution_count": 22,
   "id": "dominican-motorcycle",
   "metadata": {},
   "outputs": [
    {
     "name": "stdout",
     "output_type": "stream",
     "text": [
      "{'a': 97, 'b': 98, 'c': 99, 'd': 100, 'e': 101, 'f': 102, 'g': 103, 'h': 104, 'i': 105, 'j': 106, 'k': 107, 'l': 108, 'm': 109, 'n': 110, 'o': 111, 'p': 112, 'q': 113, 'r': 114, 's': 115, 't': 116, 'u': 117, 'v': 118, 'w': 119, 'x': 120, 'y': 121, 'z': 122}\n"
     ]
    }
   ],
   "source": [
    "# Solución con bucle clásico\n",
    "diccionario_unicode = {}\n",
    "for letra in range(ord('a'), ord('z')+1):\n",
    "    diccionario_unicode[chr(letra)] = letra\n",
    "\n",
    "print(diccionario_unicode)"
   ]
  },
  {
   "cell_type": "code",
   "execution_count": 23,
   "id": "cf81cbf9",
   "metadata": {},
   "outputs": [
    {
     "name": "stdout",
     "output_type": "stream",
     "text": [
      "{'a': 97, 'b': 98, 'c': 99, 'd': 100, 'e': 101, 'f': 102, 'g': 103, 'h': 104, 'i': 105, 'j': 106, 'k': 107, 'l': 108, 'm': 109, 'n': 110, 'o': 111, 'p': 112, 'q': 113, 'r': 114, 's': 115, 't': 116, 'u': 117, 'v': 118, 'w': 119, 'x': 120, 'y': 121, 'z': 122}\n"
     ]
    }
   ],
   "source": [
    "# Solución con dict comprehension\n",
    "diccionario_unicode = {chr(letra): letra for letra in range(ord('a'), ord('z')+1)}\n",
    "print(diccionario_unicode)"
   ]
  },
  {
   "cell_type": "markdown",
   "id": "ceramic-genre",
   "metadata": {},
   "source": [
    "### Genera un diccionario que contenga las letras del rango a-z cuya codificación en Unicode sea un número par usando *dict comprehensions*.\n",
    "\n",
    "Puedes partir del diccionario del ejercicio anterior."
   ]
  },
  {
   "cell_type": "code",
   "execution_count": 24,
   "id": "clinical-motorcycle",
   "metadata": {},
   "outputs": [
    {
     "name": "stdout",
     "output_type": "stream",
     "text": [
      "{'b': 98, 'd': 100, 'f': 102, 'h': 104, 'j': 106, 'l': 108, 'n': 110, 'p': 112, 'r': 114, 't': 116, 'v': 118, 'x': 120, 'z': 122}\n"
     ]
    }
   ],
   "source": [
    "# Solución\n",
    "pares_unicode = {chr(letra): letra for letra in range(ord('a'), ord('z')+1) if letra%2 == 0}\n",
    "print(pares_unicode)"
   ]
  },
  {
   "cell_type": "markdown",
   "id": "bfe4e56e",
   "metadata": {},
   "source": [
    "### Convierte una lista que contiene listas (bidimensional) en una lista plana.\n",
    "\n",
    "Resuélvelo con una *list comprehension*"
   ]
  },
  {
   "cell_type": "code",
   "execution_count": 25,
   "id": "7cef859f",
   "metadata": {},
   "outputs": [],
   "source": [
    "listas = [[1, 2, 3],[4, 5, 6]]"
   ]
  },
  {
   "cell_type": "code",
   "execution_count": 26,
   "id": "941d03ce",
   "metadata": {},
   "outputs": [
    {
     "name": "stdout",
     "output_type": "stream",
     "text": [
      "[1, 2, 3, 4, 5, 6]\n"
     ]
    }
   ],
   "source": [
    "# Solución: [1, 2, 3, 4, 5, 6]\n",
    "lista_plana = [elemento for sublista in listas for elemento in sublista]\n",
    "print(lista_plana)"
   ]
  },
  {
   "cell_type": "markdown",
   "id": "52adf287",
   "metadata": {},
   "source": [
    "### Programa una función `list_greater_than(numbers: List[int], threshold: int)`\n",
    "\n",
    "Esta función debe recibir una lista de números y un número, y devolver una lista de *booleanos* indicando si cada número de la lista original es estrictamente mayor que dicho número. Por ejemplo, `list_greater_than([1, 2, 3, 4, 5], 3)` devolvería `[False, False, False, True, True]`."
   ]
  },
  {
   "cell_type": "code",
   "execution_count": 29,
   "id": "56e7cfb3",
   "metadata": {},
   "outputs": [
    {
     "name": "stdout",
     "output_type": "stream",
     "text": [
      "[False, False, False, True, True]\n"
     ]
    }
   ],
   "source": [
    "# Solución\n",
    "from typing import List\n",
    "\n",
    "def lista_mayor_que(nums: List[int], threshold: int) -> List[bool]:\n",
    "    return [num > threshold for num in nums]\n",
    "\n",
    "resultado = lista_mayor_que([1,2,3,4,5],3)\n",
    "print(resultado)"
   ]
  },
  {
   "cell_type": "markdown",
   "id": "direct-rocket",
   "metadata": {
    "tags": [],
    "toc-hr-collapsed": true
   },
   "source": [
    "## Cadenas"
   ]
  },
  {
   "cell_type": "markdown",
   "id": "changing-excuse",
   "metadata": {},
   "source": [
    "### Construye una cadena que tenga todos los nombres de los vehículos del diccionario `vehicles` separados por comas.\n",
    "\n",
    "Pista: Usa la función `join()`"
   ]
  },
  {
   "cell_type": "code",
   "execution_count": 30,
   "id": "technical-reservation",
   "metadata": {},
   "outputs": [
    {
     "name": "stdout",
     "output_type": "stream",
     "text": [
      "Sedan, SUV, Pickup, Minivan, Van, Semi, Bicycle, Motorcycle\n"
     ]
    }
   ],
   "source": [
    "# Solución\n",
    "# Volvemos a definir vehicles\n",
    "vehicles = {\n",
    "    \"Sedan\":1500,\n",
    "    \"SUV\":2000,\n",
    "    \"Pickup\":2500,\n",
    "    \"Minivan\":1600,\n",
    "    \"Van\":2400,\n",
    "    \"Semi\":13600,\n",
    "    \"Bicycle\":7,\n",
    "    \"Motorcycle\":110\n",
    "}\n",
    "\n",
    "nombres = \", \".join(vehicles.keys())\n",
    "print(nombres)"
   ]
  },
  {
   "cell_type": "markdown",
   "id": "incorporate-madison",
   "metadata": {},
   "source": [
    "### Genera una cadena con retornos de carro, de manera que se imprima como un poema, con la siguiente lista de frases.\n",
    "\n",
    "Pista: Usa la función `join()`"
   ]
  },
  {
   "cell_type": "code",
   "execution_count": 37,
   "id": "absent-coupon",
   "metadata": {},
   "outputs": [],
   "source": [
    "frases = ['Aquí la envidia y mentira',\n",
    "          'me tuvieron encerrado.',\n",
    "          'Dichoso el humilde estado',\n",
    "          'del sabio que se retira',\n",
    "          'de aqueste mundo malvado.']"
   ]
  },
  {
   "cell_type": "code",
   "execution_count": 34,
   "id": "palestinian-tablet",
   "metadata": {},
   "outputs": [
    {
     "name": "stdout",
     "output_type": "stream",
     "text": [
      "Aquí la envidia y mentira\n",
      "me tuvieron encerrado.\n",
      "Dichoso el humilde estado\n",
      "del sabio que se retira\n",
      "de aqueste mundo malvado.\n"
     ]
    }
   ],
   "source": [
    "# Solución\n",
    "poema = \"\\n\".join(frases)\n",
    "print(poema)"
   ]
  },
  {
   "cell_type": "markdown",
   "id": "revolutionary-provincial",
   "metadata": {},
   "source": [
    "### Convierte una cadena con una fecha en formato 'AAAA-MM-DD' al formato 'DD/MM/AAAA'.\n",
    "\n",
    "Pista: Usa las funciones `split()` y `join()`"
   ]
  },
  {
   "cell_type": "code",
   "execution_count": 35,
   "id": "abandoned-latex",
   "metadata": {},
   "outputs": [
    {
     "name": "stdout",
     "output_type": "stream",
     "text": [
      "1 2 3\n"
     ]
    }
   ],
   "source": [
    "# Pista: la siguiente línea te puede facilitar la tarea.\n",
    "\n",
    "a, b, c = [1, 2, 3]\n",
    "print(a,b,c)"
   ]
  },
  {
   "cell_type": "code",
   "execution_count": 36,
   "id": "pressed-habitat",
   "metadata": {},
   "outputs": [
    {
     "name": "stdout",
     "output_type": "stream",
     "text": [
      "12/06/2025\n"
     ]
    }
   ],
   "source": [
    "# Solución\n",
    "fecha = '2025-06-12'\n",
    "\n",
    "anio,mes,dia = fecha.split('-')\n",
    "\n",
    "nueva_fecha = '/'.join([dia,mes,anio])\n",
    "\n",
    "print(nueva_fecha)"
   ]
  },
  {
   "cell_type": "markdown",
   "id": "9d0207f9",
   "metadata": {},
   "source": [
    "### Convierte a mayúsculas el primer de carácter de cada palabra de una lista de cadenas de caracteres.\n",
    "\n",
    "Utiliza como entrada la lista de cadenas de caracteres `frases` definida anteriormente. El resultado debe ser una única cadena: \"Aquí La Envidia Y Mentira Me Tuvieron Encerrrado. Dichoso El Humilde Estado Del Sabio Que Se Retira De Aqueste Mundo Malvado.\".\n",
    "\n",
    "Resuélvelo tanto con un bucle clásico como usando *list comprehensions*.\n",
    "\n",
    "Pista: Usa la función `capitalize()`"
   ]
  },
  {
   "cell_type": "code",
   "execution_count": 38,
   "id": "c9a8274f",
   "metadata": {},
   "outputs": [
    {
     "name": "stdout",
     "output_type": "stream",
     "text": [
      "Aquí La Envidia Y Mentira Me Tuvieron Encerrado. Dichoso El Humilde Estado Del Sabio Que Se Retira De Aqueste Mundo Malvado.\n"
     ]
    }
   ],
   "source": [
    "# Solución con bucle clásico\n",
    "resultado = \"\"\n",
    "\n",
    "for frase in frases:\n",
    "    palabras = frase.split()\n",
    "    palabras_cap = []\n",
    "    for p in palabras:\n",
    "        palabras_cap.append(p.capitalize())\n",
    "    \n",
    "    resultado += \" \".join(palabras_cap)+\" \"\n",
    "\n",
    "resultado = resultado.strip()\n",
    "print(resultado)"
   ]
  },
  {
   "cell_type": "code",
   "execution_count": 39,
   "id": "3fd39525",
   "metadata": {},
   "outputs": [
    {
     "name": "stdout",
     "output_type": "stream",
     "text": [
      "Aquí La Envidia Y Mentira Me Tuvieron Encerrado. Dichoso El Humilde Estado Del Sabio Que Se Retira De Aqueste Mundo Malvado.\n"
     ]
    }
   ],
   "source": [
    "# Solución con list comprehension\n",
    "resultado = \" \".join(\n",
    "    palabra.capitalize()\n",
    "    for frase in frases\n",
    "        for palabra in frase.split()\n",
    ")\n",
    "\n",
    "print(resultado)"
   ]
  },
  {
   "cell_type": "markdown",
   "id": "utility-nickel",
   "metadata": {},
   "source": [
    "# Ejercicios de nivel intermedio"
   ]
  },
  {
   "cell_type": "markdown",
   "id": "passive-aviation",
   "metadata": {},
   "source": [
    "## Listas, diccionarios, conjuntos, tuplas y cadenas"
   ]
  },
  {
   "cell_type": "markdown",
   "id": "differential-messenger",
   "metadata": {},
   "source": [
    "### Programa una función llamada `is_valid_zipcode(zipcode: str)`\n",
    "\n",
    "Esta función recibe una cadena y devuelve un *booleano* indicando si la cadena es un código postal válido. Consideraremos que una cadena es un código postal válido si está compuesta de 5 dígitos. Por ejemplo, `is_valid_zip_code('30500')` devolvería `True`, mientras que `is_valid_zip_code('3050a')` y `is_valid_zip_code('3050')` devolverían `False`."
   ]
  },
  {
   "cell_type": "code",
   "execution_count": 40,
   "id": "approved-veteran",
   "metadata": {},
   "outputs": [
    {
     "name": "stdout",
     "output_type": "stream",
     "text": [
      "True\n",
      "False\n",
      "False\n"
     ]
    }
   ],
   "source": [
    "# Solución\n",
    "def is_valid_zipcode(zipcode: str) -> bool:\n",
    "    return len(zipcode) == 5 and zipcode.isdigit()\n",
    "\n",
    "print(is_valid_zipcode('30500'))\n",
    "print(is_valid_zipcode('3050a'))\n",
    "print(is_valid_zipcode('3050'))"
   ]
  },
  {
   "cell_type": "markdown",
   "id": "cooperative-ribbon",
   "metadata": {},
   "source": [
    "### Programa una función llamada `primos(numero: int)` \n",
    "\n",
    "Esta función debe recibir un número y devolver una lista con los números primos que se encuentran entre 2 y ese número. Por ejemplo:\n",
    "\n",
    "`primos(50)`\n",
    "\n",
    "devolvería la siguiente lista:\n",
    "\n",
    "`[2, 3, 5, 7, 11, 13, 17, 19, 23, 29, 31, 37, 41, 43, 47]`"
   ]
  },
  {
   "cell_type": "code",
   "execution_count": 43,
   "id": "helpful-damages",
   "metadata": {},
   "outputs": [
    {
     "name": "stdout",
     "output_type": "stream",
     "text": [
      "[2, 3, 5, 7, 11, 13, 17, 19, 23, 29, 31, 37, 41, 43, 47]\n"
     ]
    }
   ],
   "source": [
    "# Solución\n",
    "def primos(numero: int) -> list:\n",
    "    primos = []\n",
    "    for n in range(2, numero+1):\n",
    "        es_primo = True\n",
    "        for i in range(2, int(n**0.5)+1):\n",
    "            if n%i == 0:\n",
    "                es_primo = False\n",
    "                break\n",
    "        if es_primo:\n",
    "                primos.append(n)\n",
    "    return primos\n",
    "\n",
    "print(primos(50))"
   ]
  },
  {
   "cell_type": "markdown",
   "id": "intelligent-juice",
   "metadata": {},
   "source": [
    "### Programa una función llamada `word_search(strings: List[str], keyword: str)`\n",
    "\n",
    "Esta función recibe como argumentos una lista de cadenas y una cadena con una palabra a buscar, y devuelve la lista de los índices de las cadenas que contienen dicha palabra, independientemente de que haya mayúsculas o minúsculas. Nótese que hay que buscar palabras enteras, no partes de otras palabras. En la lista de cadenas puede haber caracteres no alfabéticos (símbolos) tras alguna palabra y eso no debe interferir con la búsqueda.\n",
    "\n",
    "**Nota**: Para simplificar el código puedes asumir que los únicos caracteres no alfabéticos que aparecen en la lista de cadenas son el punto y la coma."
   ]
  },
  {
   "cell_type": "code",
   "execution_count": 44,
   "id": "parliamentary-rates",
   "metadata": {},
   "outputs": [],
   "source": [
    "frases = [\"No por mucho madrugar amanece más temprano.\",\n",
    "          \"Ellos se compraron un coche.\",\n",
    "          \"Sopor es un nombre.\",\n",
    "          \"Soporífero es un adjetivo.\",\n",
    "          \"Insoportable.\",\n",
    "          \" Sopor. \"]"
   ]
  },
  {
   "cell_type": "code",
   "execution_count": 46,
   "id": "c45a8922",
   "metadata": {},
   "outputs": [
    {
     "name": "stdout",
     "output_type": "stream",
     "text": [
      "[0]\n",
      "[2, 5]\n",
      "[]\n"
     ]
    }
   ],
   "source": [
    "# Solución\n",
    "from typing import List\n",
    "\n",
    "def word_search(strings: List[str], keyword: str) -> List[int]:\n",
    "    resultado = []\n",
    "    keyword = keyword.lower()\n",
    "\n",
    "    for i, frase in enumerate(strings):\n",
    "        frase2 = frase.replace('.','').replace(',','')\n",
    "        palabras = frase2.lower().split()\n",
    "        if keyword in palabras:\n",
    "            resultado.append(i)\n",
    "    return resultado\n",
    "\n",
    "\n",
    "print(word_search(frases, 'por'))\n",
    "print(word_search(frases, 'sopor'))\n",
    "print(word_search(frases, 'teii'))"
   ]
  },
  {
   "cell_type": "markdown",
   "id": "featured-october",
   "metadata": {},
   "source": [
    "### Programa una función llamada `word_count(path: str)`\n",
    "\n",
    "Esta función debe recibir como parámetro la ruta a un archivo de texto compuesto por diferentes líneas que contienen palabras, e imprimir el número de palabras que contiene el archivo. Si el archivo no existe, la función debe capturar la excepción e imprimir un mensaje de error. Por ejemplo, `word_count(\"palabras\")` imprimiría `70` mientras que `word_count(\"nopalabras\")` mostraría `\"Archivo 'nopalabras' no encontrado.\"`. Nótese que en el archivo puede haber caracteres no alfabéticos (símbolos) entre algunas palabras que no deben interferir con el cálculo del resultado.\n",
    "\n",
    "**Nota**: Para simplificar el código puedes asumir que los únicos caracteres no alfabéticos que aparecen en la lista de cadenas son el punto y la coma."
   ]
  },
  {
   "cell_type": "code",
   "execution_count": 48,
   "id": "removed-governor",
   "metadata": {},
   "outputs": [
    {
     "name": "stdout",
     "output_type": "stream",
     "text": [
      "70\n",
      "Archivo 'nopalabras' no encontrado.\n"
     ]
    }
   ],
   "source": [
    "# Solución\n",
    "def word_count(path: str):\n",
    "    try:\n",
    "        with open(path, 'r', encoding='utf-8') as archivo:\n",
    "            texto = archivo.read()\n",
    "            texto = texto.replace('.','').replace(',','')\n",
    "            palabras = texto.split()\n",
    "            print(len(palabras))\n",
    "    except FileNotFoundError:\n",
    "        print(f\"Archivo '{path}' no encontrado.\")\n",
    "\n",
    "word_count(\"palabras\")\n",
    "word_count(\"nopalabras\")"
   ]
  },
  {
   "cell_type": "markdown",
   "id": "general-kazakhstan",
   "metadata": {},
   "source": [
    "### Programa una función llamada `unique_words(path: str)`\n",
    " \n",
    "Esta función debe recibir como parámetro la ruta a un archivo de texto compuesto por diferentes líneas que contienen palabras, y devolver una lista con todas las palabras diferentes que contiene el archivo ordenadas alfabéticamente (no tengas en cuenta que las tildes se ordenan incorrectamente), independientemente de que haya mayúsculas o minúsculas. Nótese que en la lista de cadenas puede haber caracteres no alfabéticos (símbolos) entre algunas palabras que deben ignorarse, es decir, no deben aparecer en la lista. Por ejemplo, `unique_words(\"palabras\")` devolvería la lista `['a', 'alfabéticos', 'alguna', 'argumentos', ..., 'índices']`.\n",
    "\n",
    "**Nota**: Para simplificar el código puedes asumir que los únicos caracteres no alfabéticos que aparecen en la lista de cadenas son el punto y la coma."
   ]
  },
  {
   "cell_type": "code",
   "execution_count": 49,
   "id": "domestic-azerbaijan",
   "metadata": {},
   "outputs": [
    {
     "name": "stdout",
     "output_type": "stream",
     "text": [
      "['a', 'alfabéticos', 'alguna', 'argumentos', 'buscar', 'búsqueda', 'cadena', 'cadenas', 'caracteres', 'como', 'con', 'contienen', 'de', 'deben', 'devuelve', 'dicha', 'en', 'enteras', 'esta', 'función', 'haber', 'hay', 'haya', 'independientemente', 'interferir', 'la', 'las', 'lista', 'los', 'mayúsculas', 'minúsculas', 'no', 'nótese', 'o', 'otras', 'palabra', 'palabras', 'partes', 'puede', 'que', 'recibe', 'tras', 'una', 'y', 'índices']\n"
     ]
    }
   ],
   "source": [
    "# Solución\n",
    "def unique_words(path: str) -> list:\n",
    "    try:\n",
    "        with open(path, 'r', encoding='utf-8') as archivo:\n",
    "            texto = archivo.read()\n",
    "            texto = texto.replace('.','').replace(',','')\n",
    "            palabras = texto.lower().split()\n",
    "            palabras_unicas = sorted(set(palabras))\n",
    "            return palabras_unicas\n",
    "    except FileNotFoundError:\n",
    "        print(f\"Archivo '{path}' no encontrado.\")\n",
    "        return []\n",
    "\n",
    "print(unique_words(\"palabras\"))"
   ]
  },
  {
   "cell_type": "markdown",
   "id": "056dc67e",
   "metadata": {},
   "source": [
    "### Programa una función llamada `letter_count(path: str)`\n",
    "\n",
    "Esta función debe recibir como parámetro la ruta a un archivo de texto compuesto por diferentes líneas que contienen palabras, y devolver una lista de tuplas `(carácter, apariciones)` con las tuplas ordenadas alfabéticamente (no tengas en cuenta que las tildes se ordenan incorrectamente). Deben omitirse todos los caracteres no alfabéticos y los espacios. Además, no debe distinguirse entre mayúsculas minúsculas. Por ejemplo, `letter_count(\"palabras\")` devolvería la lista `[('a', 57), ('b', 12), ('c', 19), ..., ('ú', 3)]`."
   ]
  },
  {
   "cell_type": "code",
   "execution_count": 50,
   "id": "c390ba01",
   "metadata": {},
   "outputs": [
    {
     "name": "stdout",
     "output_type": "stream",
     "text": [
      "[('a', 57), ('b', 12), ('c', 19), ('d', 18), ('e', 47), ('f', 3), ('g', 2), ('h', 4), ('i', 14), ('l', 18), ('m', 5), ('n', 30), ('o', 13), ('p', 8), ('q', 6), ('r', 19), ('s', 27), ('t', 16), ('u', 18), ('v', 2), ('y', 5), ('é', 1), ('í', 1), ('ó', 2), ('ú', 3)]\n"
     ]
    }
   ],
   "source": [
    "# Solución\n",
    "def letter_count(path: str) -> list:\n",
    "    try:\n",
    "        with open(path, 'r', encoding='utf-8') as archivo:\n",
    "            texto = archivo.read().lower()\n",
    "            letras = [c for c in texto if c.isalpha()]\n",
    "            conteo = {}\n",
    "            for letra in letras:\n",
    "                conteo[letra] = conteo.get(letra,0)+1\n",
    "            return sorted(conteo.items())\n",
    "    except FileNotFoundError:\n",
    "        print(f\"Archivo '{path}' no encontrado.\")\n",
    "        return []\n",
    "\n",
    "print(letter_count(\"palabras\"))"
   ]
  },
  {
   "cell_type": "markdown",
   "id": "16e0df5a",
   "metadata": {},
   "source": [
    "# Ejercicios sobre Programación Orientada a Objectos"
   ]
  },
  {
   "cell_type": "markdown",
   "id": "f15df7c6",
   "metadata": {},
   "source": [
    "## Crea una jerarquía con las clases `Persona`, `Alumno` y `Profesor`."
   ]
  },
  {
   "cell_type": "markdown",
   "id": "565d30dc",
   "metadata": {},
   "source": [
    "Dada la siguiente definición de la clase `Persona`:"
   ]
  },
  {
   "cell_type": "code",
   "execution_count": 2,
   "id": "3084b304",
   "metadata": {},
   "outputs": [],
   "source": [
    "class Persona(object):\n",
    "    \"\"\" Una clase sencilla. \"\"\"   # esto es un docstring\n",
    "    especie = \"Homo Sapiens\"   # atributo de clase compartido entre todas las instancias\n",
    "    \n",
    "    def __init__(self, nombre):   # método mágico (dunder method)\n",
    "        \"\"\" Este es el inicializador. \"\"\"\n",
    "        self.nombre = nombre   # atributo de instancia diferente para cada objeto\n",
    "        \n",
    "    def __str__(self):   # método mágico (dunder method)\n",
    "        \"\"\" Este método lo usa Python cuando necesita imprimir el objeto como una cadena.\n",
    "        Por ejemplo, lo usa la función print(). \"\"\"\n",
    "        return self.nombre\n",
    "\n",
    "    def __repr__(self):   # método mágico (dunder method)\n",
    "        \"\"\" Este método lo usa Python cuando necesita representar objeto como una cadena.\n",
    "        La cadena resultante se puede ejecutar o evaluar. \"\"\"\n",
    "        return f\"{__class__.__name__}({self.nombre})\"\n",
    "\n",
    "    def rename(self, nuevo_nombre):   # método común\n",
    "        \"\"\" Reasigna el nombre y lo imprime. \"\"\"\n",
    "        self.nombre = nuevo_nombre\n",
    "        print(f\"Ahora me llamo {self.nombre}\")"
   ]
  },
  {
   "cell_type": "markdown",
   "id": "b3327518",
   "metadata": {},
   "source": [
    "\n",
    "* Extiende la clase `Persona`:\n",
    "  * El inicializador debe definir un atributo edad con un valor por defecto de 18 si no se especifica.\n",
    "  * Crea un *getter* y un *setter* para una *property* edad. El *setter* debe comprobar que la edad es un entero mayor que o igual a 18 y menor que o igual a 99. Si no se cumple la condición, la asignación no se lleva a cabo.\n",
    "* Escribe dos subclases de la clase Persona llamadas Alumno y Profesor.\n",
    "  * La subclase `Alumno` debe definir los siguientes atributos y métodos:\n",
    "    * Atributos:\n",
    "      * `_notas: Dict[str, float]` (relaciona cada asignatura con su nota)\n",
    "    * Propiedades:\n",
    "      * `notas: str` (devuelve un diccionario `Dict[str, Calificacion]` de la forma \"Ai: Ci\" dónde `A` es la asignatura y `C` la calificación)\n",
    "        * La calificación debe ser un enumerado con los siguientes valores: \"NP\" (`None`), \"APROBADO\" [5..6], \"BIEN\" [6..7), \"NOTABLE\" [7..9) y \"SOBRESALIENTE\" [9..10]\n",
    "    * Métodos:\n",
    "      * `matricula_asignatura(asignatura: str)`: añade `asignatura` a `_notas` con una nota inicial `None`.\n",
    "        * Si el alumno ya está matriculado en `asignatura`, se mostrará el mensaje \"El alumno '{nombre}' YA está matriculado en '{asignatura}'\".\n",
    "      * `elimina_asignatura(asignatura: str)`: elimina `asignatura` de `_notas`.\n",
    "        * Si el alumno no está matriculado en `asignatura`, se mostrará el mensaje \"El alumno '{nombre}' NO está matriculado en '{asignatura}'\".\n",
    "      * `califica_asignatura(asignatura: str, nota: float)`: asigna la calificación `nota` a la asignatura `asignatura`.\n",
    "        * Si el alumno no está matriculado en `asignatura`, se mostrará el mensaje de error \"El alumno '{nombre}' NO está matriculado en '{asignatura}'\".\n",
    "        * Si la nota no es un valor real entre 0.0 y 10.0, se emitirá una excepción `ValueError`.\n",
    "      * `nota_asignatura(asignatura: str)`: devuelve la nota numérica de `asignatura`\n",
    "        * Si el alumno no está matriculado en `asignatura`, se mostrará el mensaje \"El alumno '{nombre}' NO está matriculado en '{asignatura}'\" y se devolverá `None`.\n",
    "        * Si la asignatura `asignatura` no tiene una nota numérica, se mostrará el mensaje \"El alumno '{nombre}' NO ha sido calificado en '{asignatura}'\" y se devolverá `None`.\n",
    "  * La subclase `Profesor` debe definir los siguientes atributos y métodos:\n",
    "    * Atributos:\n",
    "      * `_asignaturas: List[str]` (asignaturas impartidas por el profesor)\n",
    "    * Propiedades:\n",
    "      * `asignaturas: List[str]` (devuelve la lista de asignaturas impartidas por el profesor ordenadas alfabéticamente)\n",
    "      * `num_asignaturas: int` (devuelve el número de asignaturas impartidas por el profesor)\n",
    "    * Métodos:\n",
    "      * `imparte_asignatura(asignatura: str)`: añade `asignatura` a `_asignaturas`.\n",
    "        * Si el profesor ya imparte `asignatura`, se mostrará el mensaje \"El profesor '{nombre}' YA imparte '{asignatura}'\".\n",
    "      * `elimina_asignatura(asignatura: str)`: elimina `asignatura` de `_asignaturas`.\n",
    "        * Si el profesor no imparte `asignatura`, se mostrará el mensaje \"El profesor '{nombre}' NO imparte '{asignatura}'\"."
   ]
  },
  {
   "cell_type": "code",
   "execution_count": 53,
   "id": "99bb37d3",
   "metadata": {},
   "outputs": [],
   "source": [
    "# Solución\n",
    "from typing import Dict, List, Optional\n",
    "from enum import Enum\n",
    "\n",
    "class Calificacion(Enum):\n",
    "    NP = \"NP\"\n",
    "    APROBADO = \"APROBADO\"\n",
    "    BIEN = \"BIEN\"\n",
    "    NOTABLE = \"NOTABLE\"\n",
    "    SOBRESALIENTE = \"SOBRESALIENTE\"\n",
    "\n",
    "class Persona(object):\n",
    "    \"\"\" Una clase sencilla. \"\"\"\n",
    "    especie = \"Homo Sapiens\"\n",
    "\n",
    "    def __init__(self, nombre, edad: int = 18):\n",
    "        self.nombre = nombre\n",
    "        self._edad = 18\n",
    "        self.edad = edad  # se usa el setter\n",
    "\n",
    "    def __str__(self):\n",
    "        return self.nombre\n",
    "\n",
    "    def __repr__(self):\n",
    "        return f\"{__class__.__name__}({self.nombre})\"\n",
    "\n",
    "    def rename(self, nuevo_nombre):\n",
    "        self.nombre = nuevo_nombre\n",
    "        print(f\"Ahora me llamo {self.nombre}\")\n",
    "\n",
    "    @property\n",
    "    def edad(self):\n",
    "        return self._edad\n",
    "    \n",
    "    @edad.setter\n",
    "    def edad(self,valor):\n",
    "        if isinstance(valor, int) and 18 <= valor <= 99:\n",
    "            self._edad = valor\n",
    "        else:\n",
    "            print(\"Edad no válida. Debe ser un enteor entre 18 y 99\")\n",
    "\n",
    "class Alumno(Persona):\n",
    "    def __init__(self, nombre, edad = 18):\n",
    "        super().__init__(nombre, edad)\n",
    "        self._notas: Dict[str, Optional[float]] = {}\n",
    "    \n",
    "    def matricula_asignatura(self, asignatura: str):\n",
    "        if asignatura in self._notas:\n",
    "            print(f\"El alumno '{self.nombre}' YA está matriculado en '{asignatura}'\")\n",
    "        else:\n",
    "            self._notas[asignatura] = None\n",
    "\n",
    "    def elimina_asignatura(self, asignatura: str):\n",
    "        if asignatura in self._notas:\n",
    "            del self._notas[asignatura]\n",
    "        else:\n",
    "            print(f\"El alumno '{self.nombre}' NO está matriculado en '{asignatura}'\")\n",
    "\n",
    "    def califica_asignatura(self, asignatura: str, nota: float):\n",
    "        if asignatura not in self._notas:\n",
    "            print(f\"El alumno '{self.nombre}' NO está matriculado en '{asignatura}'\")\n",
    "        elif not isinstance(nota, (int, float)) or not (0.0 <= nota <= 10.0):\n",
    "            raise ValueError(\"La nota debe ser un número entre 0.0 y 10.0\")\n",
    "        else:\n",
    "            self._notas[asignatura] = float(nota)\n",
    "    \n",
    "    def nota_asignatura(self, asignatura: str):\n",
    "        if asignatura not in self._notas:\n",
    "            print(f\"El alumno '{self.nombre}' NO está matriculado en '{asignatura}'\")\n",
    "            return None\n",
    "        nota = self._notas[asignatura]\n",
    "        if nota is None:\n",
    "            print(f\"El alumno '{self.nombre}' NO ha sido calificado en '{asignatura}'\")\n",
    "            return None\n",
    "        return nota\n",
    "    \n",
    "    @property\n",
    "    def notas(self) -> Dict[str, Calificacion]:\n",
    "        resultado = {}\n",
    "        for asignatura, nota in self._notas.items():\n",
    "            if nota is None:\n",
    "                resultado[asignatura] = Calificacion.NP\n",
    "            elif 5 <= nota < 6:\n",
    "                resultado[asignatura] = Calificacion.APROBADO\n",
    "            elif 6 <= nota < 7:\n",
    "                resultado[asignatura] = Calificacion.BIEN\n",
    "            elif 7 <= nota < 9:\n",
    "                resultado[asignatura] = Calificacion.NOTABLE\n",
    "            elif 9 <= nota <= 10:\n",
    "                resultado[asignatura] = Calificacion.SOBRESALIENTE\n",
    "            else:\n",
    "                resultado[asignatura] = Calificacion.NP  # Por si acaso\n",
    "        return resultado\n",
    "\n",
    "class Profesor(Persona):\n",
    "    def __init__(self, nombre, edad: int = 18):\n",
    "        super().__init__(nombre, edad)\n",
    "        self._asignaturas: List[str] = []\n",
    "\n",
    "    def imparte_asignatura(self, asignatura: str):\n",
    "        if asignatura in self._asignaturas:\n",
    "            print(f\"El profesor '{self.nombre}' YA imparte '{asignatura}'\")\n",
    "        else:\n",
    "            self._asignaturas.append(asignatura)\n",
    "\n",
    "    def elimina_asignatura(self, asignatura: str):\n",
    "        if asignatura in self._asignaturas:\n",
    "            self._asignaturas.remove(asignatura)\n",
    "        else:\n",
    "            print(f\"El profesor '{self.nombre}' NO imparte '{asignatura}'\")\n",
    "\n",
    "    @property\n",
    "    def asignaturas(self) -> List[str]:\n",
    "        return sorted(self._asignaturas)\n",
    "\n",
    "    @property\n",
    "    def num_asignaturas(self) -> int:\n",
    "        return len(self._asignaturas)"
   ]
  },
  {
   "cell_type": "code",
   "execution_count": 54,
   "id": "9a1d1251",
   "metadata": {},
   "outputs": [
    {
     "name": "stdout",
     "output_type": "stream",
     "text": [
      "{'Matemáticas': <Calificacion.NOTABLE: 'NOTABLE'>}\n",
      "['Matemáticas']\n"
     ]
    }
   ],
   "source": [
    "al = Alumno(\"Laura\", 20)\n",
    "al.matricula_asignatura(\"Matemáticas\")\n",
    "al.califica_asignatura(\"Matemáticas\", 8.5)\n",
    "print(al.notas)\n",
    "\n",
    "prof = Profesor(\"Luis\", 35)\n",
    "prof.imparte_asignatura(\"Matemáticas\")\n",
    "print(prof.asignaturas)"
   ]
  }
 ],
 "metadata": {
  "kernelspec": {
   "display_name": "Python 3",
   "language": "python",
   "name": "python3"
  },
  "language_info": {
   "codemirror_mode": {
    "name": "ipython",
    "version": 3
   },
   "file_extension": ".py",
   "mimetype": "text/x-python",
   "name": "python",
   "nbconvert_exporter": "python",
   "pygments_lexer": "ipython3",
   "version": "3.12.10"
  },
  "toc": {
   "base_numbering": 1,
   "nav_menu": {},
   "number_sections": true,
   "sideBar": true,
   "skip_h1_title": false,
   "title_cell": "Tabla de contenidos",
   "title_sidebar": "Contents",
   "toc_cell": true,
   "toc_position": {
    "height": "calc(100% - 180px)",
    "left": "10px",
    "top": "150px",
    "width": "462.35px"
   },
   "toc_section_display": true,
   "toc_window_display": true
  }
 },
 "nbformat": 4,
 "nbformat_minor": 5
}
